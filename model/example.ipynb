{
 "cells": [
  {
   "cell_type": "code",
   "execution_count": 83,
   "metadata": {},
   "outputs": [],
   "source": [
    "# Load model directly\n",
    "from transformers import AutoProcessor, AutoModelForZeroShotImageClassification\n",
    "\n",
    "processor = AutoProcessor.from_pretrained(\"Searchium-ai/clip4clip-webvid150k\")\n",
    "model = AutoModelForZeroShotImageClassification.from_pretrained(\"Searchium-ai/clip4clip-webvid150k\")"
   ]
  },
  {
   "cell_type": "code",
   "execution_count": 30,
   "metadata": {},
   "outputs": [
    {
     "name": "stdout",
     "output_type": "stream",
     "text": [
      "(1, 512)\n"
     ]
    }
   ],
   "source": [
    "# Extracting Text Embeddings\n",
    "import numpy as np\n",
    "import torch\n",
    "from transformers import CLIPTokenizer, CLIPTextModelWithProjection\n",
    "\n",
    "\n",
    "search_sentence = \"a person is falling down\"\n",
    "\n",
    "model = CLIPTextModelWithProjection.from_pretrained(\"Searchium-ai/clip4clip-webvid150k\")\n",
    "tokenizer = CLIPTokenizer.from_pretrained(\"Searchium-ai/clip4clip-webvid150k\")\n",
    "\n",
    "inputs = tokenizer(text=search_sentence , return_tensors=\"pt\")\n",
    "outputs = model(input_ids=inputs[\"input_ids\"], attention_mask=inputs[\"attention_mask\"])\n",
    "\n",
    "# Normalize embeddings for retrieval:\n",
    "final_output = outputs[0] / outputs[0].norm(dim=-1, keepdim=True)\n",
    "final_output = final_output.cpu().detach().numpy()\n",
    "text_embeddings = final_output\n",
    "print(text_embeddings.shape)\n",
    "\n",
    "# print(\"final output: \\n\", final_output)\n"
   ]
  },
  {
   "cell_type": "code",
   "execution_count": 9,
   "metadata": {},
   "outputs": [],
   "source": [
    "# Extracting Video Embeddings\n",
    "from torchvision.transforms import Compose, Resize, CenterCrop, ToTensor, Normalize, InterpolationMode\n",
    "from PIL import Image\n",
    "import cv2\n",
    "import numpy as np\n",
    "import torch\n",
    "\n",
    "# convert one video to few images.  \n",
    "def video2image(video_path, frame_rate=2, size=224): # 초당 frame_rate 개수로 균등 추출    \n",
    "    def preprocess(size, n_px):  # 이미지를 전처리하여 텐서로 변환 -> 반환된 텐서는 (추출된 프레임 개수, 채널 수, h, w)의 형태(크기)\n",
    "        return Compose([\n",
    "            Resize(size, interpolation=InterpolationMode.BICUBIC),            \n",
    "            CenterCrop(size),\n",
    "            lambda image: image.convert(\"RGB\"),\n",
    "            ToTensor(),\n",
    "            Normalize((0.48145466, 0.4578275, 0.40821073), (0.26862954, 0.26130258, 0.27577711)), # RGB 채널별 평균과 표준편차로 정규화 수행.\n",
    "        ])(n_px)  # n_px: PIL 이미지 객체\n",
    "    \n",
    "    cap = cv2.VideoCapture(video_path, cv2.CAP_FFMPEG)\n",
    "    frameCount = int(cap.get(cv2.CAP_PROP_FRAME_COUNT))\n",
    "    fps = int(cap.get(cv2.CAP_PROP_FPS))\n",
    "    if fps < 1:  # FPS가 유효하지 않은 경우, 빈 배열을 반환하고 오류 메시지\n",
    "        images = np.zeros([3, size, size], dtype=np.float32) \n",
    "        print(\"ERROR: problem reading video file: \", video_path)\n",
    "    else:\n",
    "        total_duration = (frameCount + fps - 1) // fps\n",
    "        start_sec, end_sec = 0, total_duration\n",
    "        interval = fps / frame_rate\n",
    "        frames_idx = np.floor(np.arange(start_sec*fps, end_sec*fps, interval))\n",
    "\n",
    "        ret = True     # 본격적으로 프레임을 읽어와 전처리\n",
    "        images = np.zeros([len(frames_idx), 3, size, size], dtype=np.float32)\n",
    "        \n",
    "        for i, idx in enumerate(frames_idx):\n",
    "            cap.set(cv2.CAP_PROP_POS_FRAMES , idx)\n",
    "            ret, frame = cap.read()    \n",
    "            if not ret: break\n",
    "            frame = cv2.cvtColor(frame, cv2.COLOR_BGR2RGB)             \n",
    "            last_frame = i\n",
    "            images[i,:,:,:] = preprocess(size, Image.fromarray(frame).convert(\"RGB\")) # 읽어온 프레임을 PIL 이미지로 변환한 뒤, 전처리를 거쳐 텐서로 변환. -> images 배열에 저장\n",
    "            \n",
    "        images = images[:last_frame+1]\n",
    "    cap.release()\n",
    "    video_frames = torch.tensor(images)\n",
    "    return video_frames\n",
    "\n",
    "    \n",
    "vid_example = '/Users/jisu/Desktop/25.상/졸업프로젝트/AIhub-편의점이상-Sample/01.원천데이터/03.이상행동/07.전도/C_3_7_1_BU_SMA_08-30_13-19-19_CC_RGB_DF2_M1.mp4'\n",
    "video = video2image(vid_example)"
   ]
  },
  {
   "cell_type": "code",
   "execution_count": 10,
   "metadata": {},
   "outputs": [
    {
     "data": {
      "text/plain": [
       "torch.Size([120, 3, 224, 224])"
      ]
     },
     "execution_count": 10,
     "metadata": {},
     "output_type": "execute_result"
    }
   ],
   "source": [
    "video.shape"
   ]
  },
  {
   "cell_type": "code",
   "execution_count": 18,
   "metadata": {},
   "outputs": [
    {
     "data": {
      "text/plain": [
       "torch.Size([3, 224, 224])"
      ]
     },
     "execution_count": 18,
     "metadata": {},
     "output_type": "execute_result"
    }
   ],
   "source": [
    "video.shape"
   ]
  },
  {
   "cell_type": "code",
   "execution_count": 33,
   "metadata": {},
   "outputs": [
    {
     "name": "stdout",
     "output_type": "stream",
     "text": [
      "tensor([-2.7121e-02, -3.2603e-02,  2.0232e-02,  6.0055e-02,  1.6490e-02,\n",
      "         6.4757e-04,  1.4627e-02,  1.1159e-02, -4.6573e-02,  5.5162e-03,\n",
      "         1.9931e-02, -6.7308e-03,  7.5266e-03,  1.0034e-02,  1.1848e-02,\n",
      "        -1.3109e-02, -5.1471e-02,  1.1918e-02,  1.7858e-03, -8.9834e-03,\n",
      "        -7.5532e-02, -8.5189e-03,  1.2312e-02,  1.4048e-02, -6.6083e-02,\n",
      "         3.6595e-02,  7.7150e-02,  1.2730e-02, -2.1984e-02, -2.8322e-02,\n",
      "        -1.4181e-03,  4.4522e-02, -1.2353e-02, -5.6600e-02,  5.6986e-02,\n",
      "        -1.0617e-02, -3.4750e-02, -8.0639e-03,  3.3338e-03, -4.6503e-02,\n",
      "        -6.7008e-02,  1.7114e-02,  4.6976e-02, -2.8077e-02, -1.3263e-02,\n",
      "         8.9786e-03, -6.4736e-02, -1.9511e-03,  2.1264e-02, -3.2526e-02,\n",
      "         2.7339e-02, -5.2238e-02, -2.1553e-03,  1.1082e-02,  7.1944e-03,\n",
      "         4.3347e-02, -2.1386e-02, -1.1697e-02,  4.9807e-02,  3.0858e-02,\n",
      "         2.0597e-02, -2.7559e-02, -1.5067e-02,  2.9414e-02, -6.8743e-03,\n",
      "         4.6964e-03,  3.1279e-02,  2.6731e-01, -2.5815e-02,  2.8249e-02,\n",
      "        -1.3709e-04,  1.0181e-02, -2.1188e-03, -5.8571e-02, -4.8908e-02,\n",
      "         1.3356e-03, -6.0074e-02, -8.3474e-03,  2.6149e-02, -6.0025e-03,\n",
      "         1.8049e-02,  5.3989e-02, -6.9193e-02, -7.5275e-05,  1.2890e-02,\n",
      "         1.7118e-02,  8.1557e-03,  1.4300e-02,  1.5744e-02, -2.2158e-02,\n",
      "         2.5145e-03,  6.6592e-03, -4.8044e-01, -8.1344e-03,  2.6393e-02,\n",
      "        -4.3892e-03,  3.8383e-02,  4.7455e-02,  4.0892e-02,  1.4076e-01,\n",
      "         2.8164e-02,  2.4601e-02,  3.1041e-03, -1.9247e-02, -4.3817e-02,\n",
      "         3.9346e-02, -6.5020e-02,  1.6521e-03,  1.4662e-02, -3.6838e-02,\n",
      "         1.3579e-02,  2.3008e-02, -6.8637e-03,  2.4272e-02, -3.1180e-02,\n",
      "        -5.6846e-03, -1.8422e-02,  3.4088e-02,  1.9797e-02, -3.8433e-02,\n",
      "         8.8433e-03, -1.7418e-02,  3.3113e-03,  4.8441e-02, -2.5131e-02,\n",
      "         1.7956e-02, -2.0911e-02,  3.6809e-02, -1.4675e-02, -1.3923e-02,\n",
      "         1.9499e-02, -8.9726e-03,  1.3393e-02,  9.2678e-02,  2.2499e-02,\n",
      "         6.1690e-03,  9.8418e-03,  2.1208e-02,  1.5253e-02, -2.2265e-02,\n",
      "         1.7855e-02, -3.5967e-03, -7.0836e-03,  1.0685e-02, -1.7496e-02,\n",
      "        -2.0320e-02, -4.9622e-02, -3.2373e-02,  1.9648e-02, -1.2449e-03,\n",
      "         3.8816e-02,  3.9607e-02, -1.2054e-01, -2.5281e-02,  1.0535e-02,\n",
      "         1.3035e-03, -1.4185e-02, -4.0740e-02,  2.8691e-02,  1.4082e-02,\n",
      "        -5.6861e-03,  6.4657e-02,  1.8831e-02,  1.0050e-02,  2.3626e-02,\n",
      "        -3.2587e-02,  2.6639e-02, -2.7220e-02, -2.2989e-02, -1.3023e-03,\n",
      "        -2.4938e-02, -1.5088e-03, -6.0036e-03,  3.3062e-02, -6.7294e-02,\n",
      "         3.9664e-02,  8.7660e-02, -1.5981e-02, -3.4438e-02,  3.6568e-02,\n",
      "         1.4925e-02, -2.4229e-02,  7.1787e-02,  1.2519e-02, -3.0621e-02,\n",
      "         6.9749e-03,  1.8559e-02, -4.3925e-02, -2.2876e-02,  6.3486e-03,\n",
      "        -2.9238e-02, -2.7668e-02, -4.2085e-03, -2.8312e-02, -3.8447e-02,\n",
      "         4.7516e-02,  3.3118e-02,  4.8455e-02, -2.1428e-02,  1.4193e-02,\n",
      "        -1.1973e-02,  3.0700e-02, -1.2919e-02, -3.0607e-02,  1.9324e-02,\n",
      "         1.7898e-02, -1.7737e-02,  5.1697e-02,  5.2223e-02,  1.5686e-02,\n",
      "        -1.2238e-02, -3.7951e-02,  1.2083e-02, -9.3272e-03,  3.5201e-02,\n",
      "        -4.2156e-02, -4.5708e-02,  1.5958e-02, -1.0055e-02,  1.3551e-02,\n",
      "         9.4954e-03,  1.2419e-02, -1.1938e-03,  1.3110e-02, -3.6983e-02,\n",
      "        -9.6760e-03, -4.3897e-03, -3.2329e-02, -3.6082e-02,  2.3658e-02,\n",
      "         3.3547e-02, -3.1209e-02,  1.1858e-02, -2.9193e-02,  6.2686e-02,\n",
      "        -3.5875e-02, -2.9727e-03, -9.0768e-02,  3.1723e-02, -2.7815e-02,\n",
      "         2.6204e-02,  2.5390e-03,  2.8558e-03, -1.9629e-02, -1.9589e-02,\n",
      "         1.2684e-01,  3.9824e-02, -2.9512e-02, -1.0043e-03,  5.4002e-02,\n",
      "        -1.3810e-02, -8.4452e-03,  1.7804e-02, -1.0574e-02, -9.2571e-03,\n",
      "         2.6244e-02, -1.7222e-02, -1.0853e-02,  1.6989e-01, -2.8620e-03,\n",
      "        -3.2795e-02,  2.0715e-02, -1.3311e-02,  1.6756e-02,  1.3331e-02,\n",
      "        -2.3496e-02, -5.7784e-02,  3.1709e-02,  1.1418e-02,  4.4855e-02,\n",
      "        -1.2950e-02,  6.6476e-03, -2.2814e-02,  3.6281e-03, -3.5465e-02,\n",
      "         1.6136e-02,  3.9105e-02,  2.0989e-03, -1.5787e-02,  2.4675e-02,\n",
      "         6.6422e-02,  2.8186e-02, -1.4216e-02, -6.2485e-03, -1.4410e-02,\n",
      "         2.3706e-02, -1.1199e-01, -1.1483e-02, -7.0623e-02,  2.7266e-02,\n",
      "         1.5446e-02,  1.6440e-02,  3.0965e-02, -1.2767e-02, -4.3010e-02,\n",
      "         2.6184e-02,  9.8190e-03,  4.0226e-03,  3.7560e-02,  1.4107e-02,\n",
      "        -2.9678e-02,  1.0299e-02, -5.5449e-02,  8.5143e-03, -8.9829e-04,\n",
      "         4.1406e-02,  2.5715e-02,  4.7990e-02,  6.3967e-02, -2.9176e-02,\n",
      "        -9.1385e-02,  3.5878e-02,  9.2671e-02,  8.1856e-03,  2.2750e-02,\n",
      "         6.6901e-02,  2.8796e-02,  3.0314e-02,  4.4004e-03,  3.5313e-02,\n",
      "         3.3560e-02,  1.5954e-03,  1.0489e-02,  1.9195e-02,  3.3406e-02,\n",
      "         6.6255e-02, -1.0693e-02,  3.2420e-02,  9.7181e-03, -6.4768e-02,\n",
      "         9.1346e-04, -4.5059e-02, -3.4029e-03,  2.8784e-03, -8.4705e-03,\n",
      "        -3.7477e-03, -3.9387e-02,  5.6464e-03, -5.7472e-03, -7.4430e-02,\n",
      "        -7.6730e-03, -3.5696e-02, -1.9311e-03, -4.2916e-02,  1.7937e-02,\n",
      "         1.8087e-02,  4.0048e-02,  1.5003e-02,  2.9670e-03,  6.5059e-03,\n",
      "        -1.2385e-02, -1.6772e-02,  4.6437e-03, -4.1860e-02, -1.4397e-02,\n",
      "        -4.6055e-02, -3.3745e-03,  1.5035e-01, -3.2366e-03,  7.6139e-03,\n",
      "        -1.1023e-01,  1.6617e-02,  2.5953e-02,  5.1834e-02,  9.2955e-02,\n",
      "        -1.2039e-02,  1.0427e-02,  4.5685e-02,  2.5172e-02, -2.3798e-02,\n",
      "        -5.1922e-02, -3.6965e-02, -6.1711e-03, -1.9373e-03,  1.5975e-02,\n",
      "         8.0396e-03,  1.2780e-01, -3.4005e-02,  2.4147e-02,  3.3978e-02,\n",
      "        -2.1378e-02,  4.9782e-02, -3.0644e-02, -2.3524e-02,  5.5650e-03,\n",
      "        -1.1631e-01,  1.1799e-02, -4.0110e-03,  6.2773e-03, -1.1493e-01,\n",
      "        -1.1036e-03,  5.6556e-02,  1.5597e-02,  5.6440e-04, -6.1608e-02,\n",
      "         3.6297e-03,  1.9825e-02,  2.4993e-02, -5.5364e-02,  3.5754e-02,\n",
      "        -1.7841e-02, -9.4864e-03, -3.6686e-02, -6.4907e-02,  4.1912e-02,\n",
      "         2.4566e-03, -4.7204e-02,  2.2070e-02, -6.6899e-02,  1.6401e-04,\n",
      "        -1.7645e-02, -3.4283e-03, -1.9336e-02,  1.0562e-02,  1.2149e-02,\n",
      "         9.9740e-02, -4.4019e-03, -5.4360e-02,  2.4657e-03, -3.3257e-03,\n",
      "        -2.1650e-02,  3.6361e-02,  2.3571e-02,  7.8254e-02, -4.4432e-03,\n",
      "         3.2157e-02, -1.0890e-02, -3.4744e-03, -3.7478e-02,  5.0415e-03,\n",
      "         1.5991e-02,  9.3880e-02,  7.3082e-02, -8.2022e-03,  3.1160e-02,\n",
      "         3.4831e-02, -3.0985e-02, -1.1783e-02,  3.6668e-02,  2.2522e-03,\n",
      "         1.5001e-02, -6.2563e-02,  3.9365e-02,  2.2515e-02,  9.6604e-03,\n",
      "        -1.3701e-03, -4.2184e-02, -1.1511e-02,  1.9317e-03, -4.4450e-02,\n",
      "        -3.5854e-02, -2.1868e-02, -1.1622e-02,  8.7106e-02, -1.4154e-04,\n",
      "         3.7947e-02,  1.0920e-02,  5.8350e-02,  2.0654e-02,  9.3071e-03,\n",
      "        -6.2475e-03, -2.9122e-03,  1.6086e-02, -3.0317e-02,  8.9045e-02,\n",
      "         8.2968e-03, -7.1727e-02,  2.1339e-02,  4.7923e-03,  1.4793e-02,\n",
      "         1.8729e-02, -3.2294e-02, -5.2130e-02, -2.8592e-02,  3.3208e-02,\n",
      "         1.3550e-02,  1.1861e-02,  1.5582e-02,  2.3980e-02, -1.5223e-02,\n",
      "         5.7307e-02, -6.9319e-02,  6.6885e-03, -4.5090e-03,  4.0203e-03,\n",
      "         3.2261e-02, -2.5326e-02, -6.7520e-03,  2.5242e-02, -1.4869e-02,\n",
      "         1.8218e-02, -2.4678e-02,  3.7494e-02, -5.8925e-02,  1.7217e-02,\n",
      "         3.2042e-02,  3.1868e-02,  3.4159e-02, -1.5083e-03,  2.3184e-02,\n",
      "        -4.2093e-02,  7.9918e-02, -3.1950e-02,  1.9226e-02,  3.3362e-02,\n",
      "         4.1596e-02, -2.5533e-02,  5.0788e-02,  1.9824e-02, -2.5524e-02,\n",
      "        -2.9982e-02, -1.8073e-02], grad_fn=<DivBackward0>)\n"
     ]
    }
   ],
   "source": [
    "from transformers import CLIPVisionModelWithProjection\n",
    "\n",
    "model = CLIPVisionModelWithProjection.from_pretrained(\"Searchium-ai/clip4clip-webvid150k\")\n",
    "model = model.eval()\n",
    "# # Extracting video embeddings per frame\n",
    "# video = video.permute(0, 2, 3, 1) # (N, C, H, W) -> (N, H, W, C)\n",
    "# video = video.to(model.device) # move to GPU\n",
    "# video_embeddings = []\n",
    "# for i in range(video.shape[0]):\n",
    "#     video[i] = video[i].to(model.device) # move to GPU\n",
    "#     # video[i] = video[i].unsqueeze(0) # add batch dimension\n",
    "#     with torch.no_grad():\n",
    "#         video_embeddings.append(model(video[i])[\"image_embeds\"])\n",
    "# video_embeddings = torch.stack(video_embeddings) # (N, 1, 768)\n",
    "# video_embeddings = video_embeddings.squeeze(1) # (N, 768)\n",
    "# # Normalizing the embeddings and calculating mean between all embeddings.\n",
    "# video_embeddings = video_embeddings / video_embeddings.norm(dim=-1, keepdim=True)\n",
    "# video_embeddings = torch.mean(video_embeddings, dim=0)\n",
    "# video_embeddings = video_embeddings / video_embeddings.norm(dim=-1, keepdim=True)\n",
    "# print(video_embeddings.shape)\n",
    "\n",
    "visual_output = model(video)\n",
    "\n",
    "# Normalizing the embeddings and calculating mean between all embeddings. \n",
    "visual_output = visual_output[\"image_embeds\"]\n",
    "visual_output = visual_output / visual_output.norm(dim=-1, keepdim=True)\n",
    "visual_output = torch.mean(visual_output, dim=0)\n",
    "visual_output = visual_output / visual_output.norm(dim=-1, keepdim=True)\n",
    "print(visual_output)"
   ]
  },
  {
   "cell_type": "code",
   "execution_count": 13,
   "metadata": {},
   "outputs": [
    {
     "data": {
      "text/plain": [
       "numpy.ndarray"
      ]
     },
     "execution_count": 13,
     "metadata": {},
     "output_type": "execute_result"
    }
   ],
   "source": [
    "type(text_embeddings)"
   ]
  },
  {
   "cell_type": "code",
   "execution_count": 17,
   "metadata": {},
   "outputs": [
    {
     "data": {
      "text/plain": [
       "(torch.Tensor, 512, torch.Size([512]))"
      ]
     },
     "execution_count": 17,
     "metadata": {},
     "output_type": "execute_result"
    }
   ],
   "source": [
    "type(visual_output), len(visual_output), visual_output.shape"
   ]
  },
  {
   "cell_type": "code",
   "execution_count": null,
   "metadata": {},
   "outputs": [],
   "source": []
  },
  {
   "cell_type": "code",
   "execution_count": 34,
   "metadata": {},
   "outputs": [
    {
     "ename": "RuntimeError",
     "evalue": "Can't call numpy() on Tensor that requires grad. Use tensor.detach().numpy() instead.",
     "output_type": "error",
     "traceback": [
      "\u001b[0;31m---------------------------------------------------------------------------\u001b[0m",
      "\u001b[0;31mRuntimeError\u001b[0m                              Traceback (most recent call last)",
      "Cell \u001b[0;32mIn[34], line 5\u001b[0m\n\u001b[1;32m      2\u001b[0m similarity \u001b[38;5;241m=\u001b[39m []\n\u001b[1;32m      4\u001b[0m \u001b[38;5;28;01mfor\u001b[39;00m i \u001b[38;5;129;01min\u001b[39;00m \u001b[38;5;28mrange\u001b[39m(visual_output\u001b[38;5;241m.\u001b[39mshape[\u001b[38;5;241m0\u001b[39m]):\n\u001b[0;32m----> 5\u001b[0m     similarity\u001b[38;5;241m.\u001b[39mappend(\u001b[43mnp\u001b[49m\u001b[38;5;241;43m.\u001b[39;49m\u001b[43mdot\u001b[49m\u001b[43m(\u001b[49m\u001b[43mtext_embeddings\u001b[49m\u001b[43m,\u001b[49m\u001b[43m \u001b[49m\u001b[43mvisual_output\u001b[49m\u001b[43m[\u001b[49m\u001b[43mi\u001b[49m\u001b[43m]\u001b[49m\u001b[43m)\u001b[49m)\n\u001b[1;32m      6\u001b[0m     \u001b[38;5;28mprint\u001b[39m(\u001b[38;5;124m\"\u001b[39m\u001b[38;5;124mSimilarity between text and video frame \u001b[39m\u001b[38;5;132;01m{}\u001b[39;00m\u001b[38;5;124m: \u001b[39m\u001b[38;5;132;01m{}\u001b[39;00m\u001b[38;5;124m\"\u001b[39m\u001b[38;5;241m.\u001b[39mformat(i, similarity[i]))\n\u001b[1;32m      8\u001b[0m \u001b[38;5;66;03m# Calculate similarity\u001b[39;00m\n",
      "File \u001b[0;32m/opt/anaconda3/envs/clip4clip/lib/python3.9/site-packages/torch/_tensor.py:1087\u001b[0m, in \u001b[0;36mTensor.__array__\u001b[0;34m(self, dtype)\u001b[0m\n\u001b[1;32m   1085\u001b[0m     \u001b[38;5;28;01mreturn\u001b[39;00m handle_torch_function(Tensor\u001b[38;5;241m.\u001b[39m__array__, (\u001b[38;5;28mself\u001b[39m,), \u001b[38;5;28mself\u001b[39m, dtype\u001b[38;5;241m=\u001b[39mdtype)\n\u001b[1;32m   1086\u001b[0m \u001b[38;5;28;01mif\u001b[39;00m dtype \u001b[38;5;129;01mis\u001b[39;00m \u001b[38;5;28;01mNone\u001b[39;00m:\n\u001b[0;32m-> 1087\u001b[0m     \u001b[38;5;28;01mreturn\u001b[39;00m \u001b[38;5;28;43mself\u001b[39;49m\u001b[38;5;241;43m.\u001b[39;49m\u001b[43mnumpy\u001b[49m\u001b[43m(\u001b[49m\u001b[43m)\u001b[49m\n\u001b[1;32m   1088\u001b[0m \u001b[38;5;28;01melse\u001b[39;00m:\n\u001b[1;32m   1089\u001b[0m     \u001b[38;5;28;01mreturn\u001b[39;00m \u001b[38;5;28mself\u001b[39m\u001b[38;5;241m.\u001b[39mnumpy()\u001b[38;5;241m.\u001b[39mastype(dtype, copy\u001b[38;5;241m=\u001b[39m\u001b[38;5;28;01mFalse\u001b[39;00m)\n",
      "\u001b[0;31mRuntimeError\u001b[0m: Can't call numpy() on Tensor that requires grad. Use tensor.detach().numpy() instead."
     ]
    }
   ],
   "source": [
    "# Calculate similarity  between text and video\n",
    "similarity = []\n",
    "\n",
    "for i in range(visual_output.shape[0]):\n",
    "    similarity.append(np.dot(text_embeddings, visual_output[i]))\n",
    "    print(\"Similarity between text and video frame {}: {}\".format(i, similarity[i]))\n",
    "\n",
    "# Calculate similarity"
   ]
  },
  {
   "cell_type": "code",
   "execution_count": 53,
   "metadata": {},
   "outputs": [
    {
     "data": {
      "text/plain": [
       "(1, 512)"
      ]
     },
     "execution_count": 53,
     "metadata": {},
     "output_type": "execute_result"
    }
   ],
   "source": [
    "text_embeddings.shape"
   ]
  },
  {
   "cell_type": "code",
   "execution_count": 54,
   "metadata": {},
   "outputs": [
    {
     "data": {
      "text/plain": [
       "torch.Size([1, 512])"
      ]
     },
     "execution_count": 54,
     "metadata": {},
     "output_type": "execute_result"
    }
   ],
   "source": [
    "visual_embeddings = visual_output.unsqueeze(0) # 토치텐서에 특정 차원을 추가하는 데 사용되는 함수\n",
    "visual_embeddings.shape"
   ]
  },
  {
   "cell_type": "code",
   "execution_count": 36,
   "metadata": {},
   "outputs": [
    {
     "data": {
      "text/plain": [
       "torch.Size([512])"
      ]
     },
     "execution_count": 36,
     "metadata": {},
     "output_type": "execute_result"
    }
   ],
   "source": [
    "visual_output.shape"
   ]
  },
  {
   "cell_type": "code",
   "execution_count": 61,
   "metadata": {},
   "outputs": [
    {
     "data": {
      "text/plain": [
       "(numpy.ndarray, torch.Tensor)"
      ]
     },
     "execution_count": 61,
     "metadata": {},
     "output_type": "execute_result"
    }
   ],
   "source": [
    "type(text_embeddings), type(visual_output)"
   ]
  },
  {
   "cell_type": "code",
   "execution_count": 63,
   "metadata": {},
   "outputs": [
    {
     "data": {
      "text/plain": [
       "torch.Tensor"
      ]
     },
     "execution_count": 63,
     "metadata": {},
     "output_type": "execute_result"
    }
   ],
   "source": [
    "text_tensor = torch.Tensor(text_embeddings)\n",
    "type(text_tensor)"
   ]
  },
  {
   "cell_type": "code",
   "execution_count": 64,
   "metadata": {},
   "outputs": [
    {
     "name": "stdout",
     "output_type": "stream",
     "text": [
      "Similarity matrix shape:  torch.Size([1])\n"
     ]
    }
   ],
   "source": [
    "# sim_matrix = np.matmul(text_embeddings, visual_embeddings.T)\n",
    "sim_matrix = torch.matmul(text_tensor, visual_output.T)\n",
    "print(\"Similarity matrix shape: \", sim_matrix.shape)"
   ]
  },
  {
   "cell_type": "code",
   "execution_count": 66,
   "metadata": {},
   "outputs": [
    {
     "data": {
      "text/plain": [
       "tensor([0.1502], grad_fn=<MvBackward0>)"
      ]
     },
     "execution_count": 66,
     "metadata": {},
     "output_type": "execute_result"
    }
   ],
   "source": [
    "sim_matrix"
   ]
  },
  {
   "cell_type": "code",
   "execution_count": 46,
   "metadata": {},
   "outputs": [
    {
     "name": "stdout",
     "output_type": "stream",
     "text": [
      "(512,)\n"
     ]
    },
    {
     "data": {
      "text/plain": [
       "numpy.ndarray"
      ]
     },
     "execution_count": 46,
     "metadata": {},
     "output_type": "execute_result"
    }
   ],
   "source": [
    "visual_np = visual_output.cpu().detach().numpy()\n",
    "print(visual_np.shape)\n",
    "type(visual_np)"
   ]
  },
  {
   "cell_type": "code",
   "execution_count": 65,
   "metadata": {},
   "outputs": [
    {
     "name": "stdout",
     "output_type": "stream",
     "text": [
      "(1, 512)\n"
     ]
    },
    {
     "data": {
      "text/plain": [
       "(512,)"
      ]
     },
     "execution_count": 65,
     "metadata": {},
     "output_type": "execute_result"
    }
   ],
   "source": [
    "print(text_embeddings.shape)\n",
    "# type(text_embeddings) # numpy.ndarray\n",
    "\n",
    "text_embeddings.squeeze().shape"
   ]
  },
  {
   "cell_type": "code",
   "execution_count": null,
   "metadata": {},
   "outputs": [],
   "source": [
    "np.dot(text_embeddings.squeeze(), visual_np[0])\n"
   ]
  },
  {
   "cell_type": "code",
   "execution_count": null,
   "metadata": {},
   "outputs": [],
   "source": [
    "text_tensor = torch.from_numpy(text_embeddings)"
   ]
  },
  {
   "cell_type": "code",
   "execution_count": 44,
   "metadata": {},
   "outputs": [
    {
     "data": {
      "text/plain": [
       "torch.Size([512])"
      ]
     },
     "execution_count": 44,
     "metadata": {},
     "output_type": "execute_result"
    }
   ],
   "source": [
    "text_tensor = text_tensor.squeeze(0)\n",
    "text_tensor.shape"
   ]
  },
  {
   "cell_type": "code",
   "execution_count": 45,
   "metadata": {},
   "outputs": [
    {
     "ename": "RuntimeError",
     "evalue": "Can't call numpy() on Tensor that requires grad. Use tensor.detach().numpy() instead.",
     "output_type": "error",
     "traceback": [
      "\u001b[0;31m---------------------------------------------------------------------------\u001b[0m",
      "\u001b[0;31mRuntimeError\u001b[0m                              Traceback (most recent call last)",
      "Cell \u001b[0;32mIn[45], line 1\u001b[0m\n\u001b[0;32m----> 1\u001b[0m \u001b[43mnp\u001b[49m\u001b[38;5;241;43m.\u001b[39;49m\u001b[43mdot\u001b[49m\u001b[43m(\u001b[49m\u001b[43mtext_tensor\u001b[49m\u001b[43m,\u001b[49m\u001b[43m \u001b[49m\u001b[43mvisual_output\u001b[49m\u001b[43m)\u001b[49m\n",
      "File \u001b[0;32m/opt/anaconda3/envs/clip4clip/lib/python3.9/site-packages/torch/_tensor.py:1087\u001b[0m, in \u001b[0;36mTensor.__array__\u001b[0;34m(self, dtype)\u001b[0m\n\u001b[1;32m   1085\u001b[0m     \u001b[38;5;28;01mreturn\u001b[39;00m handle_torch_function(Tensor\u001b[38;5;241m.\u001b[39m__array__, (\u001b[38;5;28mself\u001b[39m,), \u001b[38;5;28mself\u001b[39m, dtype\u001b[38;5;241m=\u001b[39mdtype)\n\u001b[1;32m   1086\u001b[0m \u001b[38;5;28;01mif\u001b[39;00m dtype \u001b[38;5;129;01mis\u001b[39;00m \u001b[38;5;28;01mNone\u001b[39;00m:\n\u001b[0;32m-> 1087\u001b[0m     \u001b[38;5;28;01mreturn\u001b[39;00m \u001b[38;5;28;43mself\u001b[39;49m\u001b[38;5;241;43m.\u001b[39;49m\u001b[43mnumpy\u001b[49m\u001b[43m(\u001b[49m\u001b[43m)\u001b[49m\n\u001b[1;32m   1088\u001b[0m \u001b[38;5;28;01melse\u001b[39;00m:\n\u001b[1;32m   1089\u001b[0m     \u001b[38;5;28;01mreturn\u001b[39;00m \u001b[38;5;28mself\u001b[39m\u001b[38;5;241m.\u001b[39mnumpy()\u001b[38;5;241m.\u001b[39mastype(dtype, copy\u001b[38;5;241m=\u001b[39m\u001b[38;5;28;01mFalse\u001b[39;00m)\n",
      "\u001b[0;31mRuntimeError\u001b[0m: Can't call numpy() on Tensor that requires grad. Use tensor.detach().numpy() instead."
     ]
    }
   ],
   "source": [
    "np.dot(text_tensor, visual_output)"
   ]
  },
  {
   "cell_type": "code",
   "execution_count": null,
   "metadata": {},
   "outputs": [],
   "source": []
  },
  {
   "cell_type": "code",
   "execution_count": 111,
   "metadata": {},
   "outputs": [],
   "source": [
    "import cv2\n",
    "import numpy as np\n",
    "import tempfile\n",
    "from collections import deque\n",
    "from torchvision import transforms\n",
    "\n",
    "# 비디오 파일을 처리하고 임베딩을 생성하는 함수\n",
    "def process_video(video_file, model, window_size=6, time_interval=0.5, progress_callback=None):\n",
    "    \"\"\"\n",
    "    비디오에서 프레임을 추출하고, 모델을 사용하여 임베딩을 생성하는 함수.\n",
    "\n",
    "    Args:\n",
    "        video_file (file-like object): 입력 비디오 파일\n",
    "        model (torch.nn.Module): 프레임 임베딩을 생성할 모델\n",
    "        window_size (int, optional): 입력 영상의 프레임 수 (기본값: 6)\n",
    "        time_interval (float, optional): 샘플링할 시간 간격 (초 단위, 기본값: 0.5초)\n",
    "        progress_callback (function, optional): 진행률 업데이트를 위한 콜백 함수\n",
    "\n",
    "    Returns:\n",
    "        tuple: (expanded_embeddings_array, fps)\n",
    "            - expanded_embeddings_array (np.ndarray): (total_frames, 512) 크기의 임베딩 배열\n",
    "    \"\"\"\n",
    "    # 비디오 파일의 총 프레임 수와 FPS를 가져옴\n",
    "    cap = cv2.VideoCapture(str(video_file))\n",
    "    total_frames = int(cap.get(cv2.CAP_PROP_FRAME_COUNT))\n",
    "    fps = int(cap.get(cv2.CAP_PROP_FPS))\n",
    "    frame_interval = int(fps * time_interval)\n",
    "    \n",
    "    frame_queue = deque(maxlen=window_size)\n",
    "    embeddings = []\n",
    "\n",
    "    preprocess = transforms.Compose([\n",
    "        transforms.ToPILImage(),  # numpy 이미지 → PIL\n",
    "        transforms.Resize((224, 224)),\n",
    "        transforms.ToTensor(),  # [0, 255] → [0.0, 1.0]\n",
    "        transforms.Normalize(mean=[0.485, 0.456, 0.406],\n",
    "                            std=[0.229, 0.224, 0.225])\n",
    "    ])\n",
    "    \n",
    "    \n",
    "    for frame_idx in range(total_frames):\n",
    "        ret, video_frame = cap.read()\n",
    "        if not ret:\n",
    "            break\n",
    "        if frame_idx % frame_interval == 0:\n",
    "            video_frame = cv2.cvtColor(video_frame, cv2.COLOR_BGR2RGB)\n",
    "            while len(frame_queue) < window_size:\n",
    "                frame_queue.append(video_frame)\n",
    "            frame_queue.append(video_frame)\n",
    "            frame_tensor = preprocess(video_frame).unsqueeze(0)  # (1, 3, 224, 224)\n",
    "            vis_vector = model(frame_tensor[frame_idx])\n",
    "            vis_vector = vis_vector.squeeze(1)\n",
    "            vis_vector = vis_vector / vis_vector.norm(dim=-1, keepdim=True)\n",
    "            if vis_vector.shape == (1, 512):\n",
    "                embeddings.append(vis_vector[0].cpu().numpy().astype(np.float32))\n",
    "        # 진행률 업데이트: 현재 처리한 프레임 (frame_idx+1) / 전체 프레임\n",
    "        if progress_callback is not None:\n",
    "            progress_callback(frame_idx + 1, total_frames)\n",
    "    \n",
    "    cap.release()\n",
    "    \n",
    "    if len(embeddings) == 0: # 임베딩이 생성되지 않은 경우\n",
    "        raise ValueError(\"임베딩이 생성되지 않았습니다. 비디오 또는 모델을 확인하세요.\")\n",
    "    \n",
    "    # 선형 보간을 이용해 전체 프레임 크기의 임베딩 배열 생성\n",
    "    sample_indices = np.arange(len(embeddings)) * frame_interval\n",
    "    full_indices = np.arange(total_frames)\n",
    "    E = np.array(embeddings)\n",
    "    expanded_embeddings_array = np.zeros((total_frames, E.shape[1]), dtype=E.dtype)\n",
    "    for d in range(E.shape[1]):\n",
    "        expanded_embeddings_array[:, d] = np.interp(full_indices, sample_indices, E[:, d])\n",
    "    \n",
    "    return expanded_embeddings_array"
   ]
  },
  {
   "cell_type": "markdown",
   "metadata": {},
   "source": [
    "### **프레임(sparse) 단위 처리**"
   ]
  },
  {
   "cell_type": "code",
   "execution_count": 16,
   "metadata": {},
   "outputs": [
    {
     "name": "stdout",
     "output_type": "stream",
     "text": [
      "Device:  cpu\n",
      "ERROR: problem reading video file:  /Users/jisu/Desktop/25.상/졸업프로젝트/Sample/01.원천데이터/03.이상행동/07.전도/C_3_7_1_BU_SMA_08-30_13-19-19_CC_RGB_DF2_M1.mp4\n"
     ]
    },
    {
     "name": "stderr",
     "output_type": "stream",
     "text": [
      "[ WARN:0@371.786] global cap.cpp:206 open VIDEOIO(FFMPEG): backend is generally available but can't be used to capture by name\n"
     ]
    },
    {
     "data": {
      "text/plain": [
       "torch.Size([3, 224, 224])"
      ]
     },
     "execution_count": 16,
     "metadata": {},
     "output_type": "execute_result"
    }
   ],
   "source": [
    "device = torch.device(\"mps\" if torch.backends.mps.is_available() else \"cpu\")\n",
    "print(\"Device: \", device)\n",
    "\n",
    "vid_example = '/Users/jisu/Desktop/25.상/졸업프로젝트/Sample/01.원천데이터/03.이상행동/07.전도/C_3_7_1_BU_SMA_08-30_13-19-19_CC_RGB_DF2_M1.mp4'\n",
    "video = video2image(vid_example)\n",
    "video.shape"
   ]
  },
  {
   "cell_type": "code",
   "execution_count": 12,
   "metadata": {},
   "outputs": [
    {
     "data": {
      "text/plain": [
       "torch.Size([3, 224, 224])"
      ]
     },
     "execution_count": 12,
     "metadata": {},
     "output_type": "execute_result"
    }
   ],
   "source": [
    "video.shape"
   ]
  },
  {
   "cell_type": "code",
   "execution_count": null,
   "metadata": {},
   "outputs": [
    {
     "name": "stdout",
     "output_type": "stream",
     "text": [
      "torch.Size([120, 3, 224, 224])\n",
      "torch.Size([120, 512])\n"
     ]
    }
   ],
   "source": [
    "from transformers import CLIPVisionModelWithProjection\n",
    "\n",
    "model = CLIPVisionModelWithProjection.from_pretrained(\"Searchium-ai/clip4clip-webvid150k\")\n",
    "model = model.eval()\n",
    "\n",
    "video_file = '/Users/jisu/Desktop/25.상/졸업프로젝트/AIhub-편의점이상-Sample/01.원천데이터/03.이상행동/07.전도/C_3_7_1_BU_SMA_08-30_13-19-19_CC_RGB_DF2_M1.mp4'\n",
    "video = video2image(video_file)\n",
    "print(video.shape) # torch.Size([120, 3, 224, 224])\n",
    "\n",
    "# Extracting video embeddings per frame\n",
    "# video = video.permute(0, 2, 3, 1) # (N, C, H, W) -> (N, H, W, C)\n",
    "    # CLIP 모델 pixel_values 입력, (N, 3, 224, 224) 형식\n",
    "video = video.to(model.device) # move to GPU\n",
    "\n",
    "video_embeddings = []\n",
    "for i in range(video.shape[0]):\n",
    "    video[i] = video[i].to(model.device) # move to GPU\n",
    "    # video[i] = video[i].unsqueeze(0) # add batch dimension\n",
    "    with torch.no_grad():\n",
    "        # video_embeddings.append(model(video[i])[\"image_embeds\"])\n",
    "        video_embeddings.append(model(pixel_values=video)[\"image_embeds\"])\n",
    "\n",
    "video_embeddings = torch.stack(video_embeddings) # (N, 1, 768)\n",
    "video_embeddings = video_embeddings.squeeze(1) # (N, 768)\n",
    "\n",
    "\n",
    "# Normalizing the embeddings and calculating mean between all embeddings.\n",
    "video_embeddings = video_embeddings / video_embeddings.norm(dim=-1, keepdim=True)\n",
    "video_embeddings = torch.mean(video_embeddings, dim=0)\n",
    "video_embeddings = video_embeddings / video_embeddings.norm(dim=-1, keepdim=True)\n",
    "\n",
    "\n",
    "print(video_embeddings.shape) # torch.Size([120, 512])-> cpu연산으로 12분 10초 소요"
   ]
  },
  {
   "cell_type": "markdown",
   "metadata": {},
   "source": []
  },
  {
   "cell_type": "code",
   "execution_count": 36,
   "metadata": {},
   "outputs": [
    {
     "name": "stdout",
     "output_type": "stream",
     "text": [
      "torch.Size([1, 512])\n"
     ]
    },
    {
     "data": {
      "text/plain": [
       "(1, 512)"
      ]
     },
     "execution_count": 36,
     "metadata": {},
     "output_type": "execute_result"
    }
   ],
   "source": [
    "# Extracting Text Embeddings\n",
    "import numpy as np\n",
    "import torch\n",
    "from transformers import CLIPTokenizer, CLIPTextModelWithProjection\n",
    "\n",
    "\n",
    "search_sentence = \"a person is singing\"\n",
    "\n",
    "model = CLIPTextModelWithProjection.from_pretrained(\"Searchium-ai/clip4clip-webvid150k\")\n",
    "tokenizer = CLIPTokenizer.from_pretrained(\"Searchium-ai/clip4clip-webvid150k\")\n",
    "\n",
    "inputs = tokenizer(text=search_sentence , return_tensors=\"pt\")\n",
    "outputs = model(input_ids=inputs[\"input_ids\"], attention_mask=inputs[\"attention_mask\"])\n",
    "\n",
    "# Normalize embeddings for retrieval:\n",
    "final_output = outputs[0] / outputs[0].norm(dim=-1, keepdim=True)\n",
    "print(final_output.shape) # torch.Size([1, 512])\n",
    "\n",
    "text_embeddings = final_output.cpu().detach().numpy()\n",
    "text_embeddings.shape"
   ]
  },
  {
   "cell_type": "code",
   "execution_count": null,
   "metadata": {},
   "outputs": [],
   "source": []
  },
  {
   "cell_type": "code",
   "execution_count": null,
   "metadata": {},
   "outputs": [],
   "source": []
  },
  {
   "cell_type": "code",
   "execution_count": 37,
   "metadata": {},
   "outputs": [
    {
     "data": {
      "text/plain": [
       "torch.Size([120])"
      ]
     },
     "execution_count": 37,
     "metadata": {},
     "output_type": "execute_result"
    }
   ],
   "source": [
    "import matplotlib.pyplot as plt\n",
    "\n",
    "# 코사인 유사도 계산: 각 프레임과 텍스트 사이\n",
    "# 결과: [120]\n",
    "similarities = torch.matmul(video_embeddings, final_output.T).squeeze(1)  # (120, 1) -> (120,)\n",
    "similarities.shape"
   ]
  },
  {
   "cell_type": "code",
   "execution_count": 31,
   "metadata": {},
   "outputs": [
    {
     "data": {
      "image/png": "[encoded data removed]",
      "text/plain": [
       "<Figure size 1500x400 with 1 Axes>"
      ]
     },
     "metadata": {},
     "output_type": "display_data"
    }
   ],
   "source": [
    "plt.figure(figsize=(15, 4))\n",
    "plt.plot(similarities.detach().numpy(), marker='o')\n",
    "plt.title(\"Text-to-Image (Frame) Cosine Similarity\")\n",
    "plt.xlabel(\"Frame Index\")\n",
    "plt.ylabel(\"Cosine Similarity\")\n",
    "plt.grid(True)\n",
    "plt.show()"
   ]
  },
  {
   "cell_type": "code",
   "execution_count": 38,
   "metadata": {},
   "outputs": [
    {
     "data": {
      "image/png": "[encoded data removed]",
      "text/plain": [
       "<Figure size 1500x400 with 1 Axes>"
      ]
     },
     "metadata": {},
     "output_type": "display_data"
    }
   ],
   "source": [
    "plt.figure(figsize=(15, 4))\n",
    "plt.plot(similarities.detach().numpy(), marker='o')\n",
    "plt.title(\"Text-to-Image (Frame) Cosine Similarity\")\n",
    "plt.xlabel(\"Frame Index\")\n",
    "plt.ylabel(\"Cosine Similarity\")\n",
    "plt.grid(True)\n",
    "plt.show()"
   ]
  },
  {
   "cell_type": "code",
   "execution_count": 35,
   "metadata": {},
   "outputs": [
    {
     "data": {
      "text/plain": [
       "tensor(0.1502, grad_fn=<DotBackward0>)"
      ]
     },
     "execution_count": 35,
     "metadata": {},
     "output_type": "execute_result"
    }
   ],
   "source": [
    "mean_pooled_visual_output = torch.mean(video_embeddings, dim=0)             # mean of all embeddings: torch.Size([512])\n",
    "mean_pooled_visual_output = mean_pooled_visual_output / mean_pooled_visual_output.norm(dim=-1, keepdim=True) # normalizing the embeddings: torch.Size([512])\n",
    "\n",
    "# Calculate similarity between text and video\n",
    "similarity = torch.dot(final_output.squeeze(), mean_pooled_visual_output)\n",
    "similarity"
   ]
  },
  {
   "cell_type": "markdown",
   "metadata": {},
   "source": [
    "1. 프레임을 전처리하고 텐서로 변환"
   ]
  },
  {
   "cell_type": "code",
   "execution_count": 109,
   "metadata": {},
   "outputs": [],
   "source": [
    "from torchvision import transforms\n",
    "\n",
    "preprocess = transforms.Compose([\n",
    "    transforms.ToPILImage(),  # numpy 이미지 → PIL\n",
    "    transforms.Resize((224, 224)),\n",
    "    transforms.ToTensor(),  # [0, 255] → [0.0, 1.0]\n",
    "    transforms.Normalize(mean=[0.485, 0.456, 0.406],\n",
    "                         std=[0.229, 0.224, 0.225])\n",
    "])"
   ]
  },
  {
   "cell_type": "markdown",
   "metadata": {},
   "source": [
    "2. 단일 프레임을 텐서로 변환하고 배치 차원 추가\n"
   ]
  },
  {
   "cell_type": "code",
   "execution_count": 72,
   "metadata": {},
   "outputs": [
    {
     "ename": "ValueError",
     "evalue": "pic should be 2/3 dimensional. Got 4 dimensions.",
     "output_type": "error",
     "traceback": [
      "\u001b[0;31m---------------------------------------------------------------------------\u001b[0m",
      "\u001b[0;31mValueError\u001b[0m                                Traceback (most recent call last)",
      "Cell \u001b[0;32mIn[72], line 2\u001b[0m\n\u001b[1;32m      1\u001b[0m \u001b[38;5;66;03m# numpy 프레임 → torch.Tensor로 변환\u001b[39;00m\n\u001b[0;32m----> 2\u001b[0m frame_tensor \u001b[38;5;241m=\u001b[39m \u001b[43mpreprocess\u001b[49m\u001b[43m(\u001b[49m\u001b[43mvideo_frames\u001b[49m\u001b[43m)\u001b[49m\u001b[38;5;241m.\u001b[39munsqueeze(\u001b[38;5;241m0\u001b[39m)\u001b[38;5;241m.\u001b[39mto(device)  \u001b[38;5;66;03m# (1, 3, 224, 224)\u001b[39;00m\n\u001b[1;32m      4\u001b[0m \u001b[38;5;66;03m# 모델에 입력\u001b[39;00m\n\u001b[1;32m      5\u001b[0m \u001b[38;5;28;01mwith\u001b[39;00m torch\u001b[38;5;241m.\u001b[39mno_grad():\n",
      "File \u001b[0;32m/opt/anaconda3/envs/clip4clip/lib/python3.9/site-packages/torchvision/transforms/transforms.py:95\u001b[0m, in \u001b[0;36mCompose.__call__\u001b[0;34m(self, img)\u001b[0m\n\u001b[1;32m     93\u001b[0m \u001b[38;5;28;01mdef\u001b[39;00m\u001b[38;5;250m \u001b[39m\u001b[38;5;21m__call__\u001b[39m(\u001b[38;5;28mself\u001b[39m, img):\n\u001b[1;32m     94\u001b[0m     \u001b[38;5;28;01mfor\u001b[39;00m t \u001b[38;5;129;01min\u001b[39;00m \u001b[38;5;28mself\u001b[39m\u001b[38;5;241m.\u001b[39mtransforms:\n\u001b[0;32m---> 95\u001b[0m         img \u001b[38;5;241m=\u001b[39m \u001b[43mt\u001b[49m\u001b[43m(\u001b[49m\u001b[43mimg\u001b[49m\u001b[43m)\u001b[49m\n\u001b[1;32m     96\u001b[0m     \u001b[38;5;28;01mreturn\u001b[39;00m img\n",
      "File \u001b[0;32m/opt/anaconda3/envs/clip4clip/lib/python3.9/site-packages/torchvision/transforms/transforms.py:234\u001b[0m, in \u001b[0;36mToPILImage.__call__\u001b[0;34m(self, pic)\u001b[0m\n\u001b[1;32m    225\u001b[0m \u001b[38;5;28;01mdef\u001b[39;00m\u001b[38;5;250m \u001b[39m\u001b[38;5;21m__call__\u001b[39m(\u001b[38;5;28mself\u001b[39m, pic):\n\u001b[1;32m    226\u001b[0m \u001b[38;5;250m    \u001b[39m\u001b[38;5;124;03m\"\"\"\u001b[39;00m\n\u001b[1;32m    227\u001b[0m \u001b[38;5;124;03m    Args:\u001b[39;00m\n\u001b[1;32m    228\u001b[0m \u001b[38;5;124;03m        pic (Tensor or numpy.ndarray): Image to be converted to PIL Image.\u001b[39;00m\n\u001b[0;32m   (...)\u001b[0m\n\u001b[1;32m    232\u001b[0m \n\u001b[1;32m    233\u001b[0m \u001b[38;5;124;03m    \"\"\"\u001b[39;00m\n\u001b[0;32m--> 234\u001b[0m     \u001b[38;5;28;01mreturn\u001b[39;00m \u001b[43mF\u001b[49m\u001b[38;5;241;43m.\u001b[39;49m\u001b[43mto_pil_image\u001b[49m\u001b[43m(\u001b[49m\u001b[43mpic\u001b[49m\u001b[43m,\u001b[49m\u001b[43m \u001b[49m\u001b[38;5;28;43mself\u001b[39;49m\u001b[38;5;241;43m.\u001b[39;49m\u001b[43mmode\u001b[49m\u001b[43m)\u001b[49m\n",
      "File \u001b[0;32m/opt/anaconda3/envs/clip4clip/lib/python3.9/site-packages/torchvision/transforms/functional.py:274\u001b[0m, in \u001b[0;36mto_pil_image\u001b[0;34m(pic, mode)\u001b[0m\n\u001b[1;32m    272\u001b[0m     pic \u001b[38;5;241m=\u001b[39m np\u001b[38;5;241m.\u001b[39mexpand_dims(pic, \u001b[38;5;241m2\u001b[39m)\n\u001b[1;32m    273\u001b[0m \u001b[38;5;28;01mif\u001b[39;00m pic\u001b[38;5;241m.\u001b[39mndim \u001b[38;5;241m!=\u001b[39m \u001b[38;5;241m3\u001b[39m:\n\u001b[0;32m--> 274\u001b[0m     \u001b[38;5;28;01mraise\u001b[39;00m \u001b[38;5;167;01mValueError\u001b[39;00m(\u001b[38;5;124mf\u001b[39m\u001b[38;5;124m\"\u001b[39m\u001b[38;5;124mpic should be 2/3 dimensional. Got \u001b[39m\u001b[38;5;132;01m{\u001b[39;00mpic\u001b[38;5;241m.\u001b[39mndim\u001b[38;5;132;01m}\u001b[39;00m\u001b[38;5;124m dimensions.\u001b[39m\u001b[38;5;124m\"\u001b[39m)\n\u001b[1;32m    276\u001b[0m \u001b[38;5;28;01mif\u001b[39;00m pic\u001b[38;5;241m.\u001b[39mshape[\u001b[38;5;241m-\u001b[39m\u001b[38;5;241m1\u001b[39m] \u001b[38;5;241m>\u001b[39m \u001b[38;5;241m4\u001b[39m:\n\u001b[1;32m    277\u001b[0m     \u001b[38;5;28;01mraise\u001b[39;00m \u001b[38;5;167;01mValueError\u001b[39;00m(\u001b[38;5;124mf\u001b[39m\u001b[38;5;124m\"\u001b[39m\u001b[38;5;124mpic should not have > 4 channels. Got \u001b[39m\u001b[38;5;132;01m{\u001b[39;00mpic\u001b[38;5;241m.\u001b[39mshape[\u001b[38;5;241m-\u001b[39m\u001b[38;5;241m1\u001b[39m]\u001b[38;5;132;01m}\u001b[39;00m\u001b[38;5;124m channels.\u001b[39m\u001b[38;5;124m\"\u001b[39m)\n",
      "\u001b[0;31mValueError\u001b[0m: pic should be 2/3 dimensional. Got 4 dimensions."
     ]
    }
   ],
   "source": [
    "# numpy 프레임 → torch.Tensor로 변환\n",
    "frame_tensor = preprocess(video_frames).unsqueeze(0).to(device)  # (1, 3, 224, 224)\n",
    "\n",
    "# 모델에 입력\n",
    "with torch.no_grad():\n",
    "    vis_vector = model(pixel_values=frame_tensor).image_embeds  # CLIPVisionModelWithProjection\n"
   ]
  },
  {
   "cell_type": "code",
   "execution_count": 84,
   "metadata": {},
   "outputs": [
    {
     "name": "stdout",
     "output_type": "stream",
     "text": [
      "0\n"
     ]
    },
    {
     "name": "stderr",
     "output_type": "stream",
     "text": [
      "OpenCV: Couldn't read video stream from file \"/Users/jisu/Desktop/25.상/졸업프로젝트/Sample/01.원천데이터/03.이상행동/07.전도/C_3_7_1_BU_SMA_08-30_13-19-19_CC_RGB_DF2_M1.mp4\"\n"
     ]
    },
    {
     "ename": "ValueError",
     "evalue": "임베딩이 생성되지 않았습니다. 비디오 또는 모델을 확인하세요.",
     "output_type": "error",
     "traceback": [
      "\u001b[0;31m---------------------------------------------------------------------------\u001b[0m",
      "\u001b[0;31mValueError\u001b[0m                                Traceback (most recent call last)",
      "Cell \u001b[0;32mIn[84], line 1\u001b[0m\n\u001b[0;32m----> 1\u001b[0m video_embeddings, _ \u001b[38;5;241m=\u001b[39m \u001b[43mprocess_video\u001b[49m\u001b[43m(\u001b[49m\u001b[43mvid_example\u001b[49m\u001b[43m,\u001b[49m\u001b[43m \u001b[49m\u001b[43mmodel\u001b[49m\u001b[43m,\u001b[49m\u001b[43m \u001b[49m\u001b[43mwindow_size\u001b[49m\u001b[38;5;241;43m=\u001b[39;49m\u001b[38;5;241;43m6\u001b[39;49m\u001b[43m,\u001b[49m\u001b[43m \u001b[49m\u001b[43mtime_interval\u001b[49m\u001b[38;5;241;43m=\u001b[39;49m\u001b[38;5;241;43m0.5\u001b[39;49m\u001b[43m)\u001b[49m\n",
      "Cell \u001b[0;32mIn[76], line 54\u001b[0m, in \u001b[0;36mprocess_video\u001b[0;34m(video_file, model, window_size, time_interval, progress_callback)\u001b[0m\n\u001b[1;32m     51\u001b[0m cap\u001b[38;5;241m.\u001b[39mrelease()\n\u001b[1;32m     53\u001b[0m \u001b[38;5;28;01mif\u001b[39;00m \u001b[38;5;28mlen\u001b[39m(embeddings) \u001b[38;5;241m==\u001b[39m \u001b[38;5;241m0\u001b[39m: \u001b[38;5;66;03m# 임베딩이 생성되지 않은 경우\u001b[39;00m\n\u001b[0;32m---> 54\u001b[0m     \u001b[38;5;28;01mraise\u001b[39;00m \u001b[38;5;167;01mValueError\u001b[39;00m(\u001b[38;5;124m\"\u001b[39m\u001b[38;5;124m임베딩이 생성되지 않았습니다. 비디오 또는 모델을 확인하세요.\u001b[39m\u001b[38;5;124m\"\u001b[39m)\n\u001b[1;32m     56\u001b[0m \u001b[38;5;66;03m# 선형 보간을 이용해 전체 프레임 크기의 임베딩 배열 생성\u001b[39;00m\n\u001b[1;32m     57\u001b[0m sample_indices \u001b[38;5;241m=\u001b[39m np\u001b[38;5;241m.\u001b[39marange(\u001b[38;5;28mlen\u001b[39m(embeddings)) \u001b[38;5;241m*\u001b[39m frame_interval\n",
      "\u001b[0;31mValueError\u001b[0m: 임베딩이 생성되지 않았습니다. 비디오 또는 모델을 확인하세요."
     ]
    }
   ],
   "source": [
    "video_embeddings, _ = process_video(vid_example, model, window_size=6, time_interval=0.5)"
   ]
  },
  {
   "cell_type": "code",
   "execution_count": null,
   "metadata": {},
   "outputs": [],
   "source": []
  }
 ],
 "metadata": {
  "kernelspec": {
   "display_name": "clip4clip",
   "language": "python",
   "name": "python3"
  },
  "language_info": {
   "codemirror_mode": {
    "name": "ipython",
    "version": 3
   },
   "file_extension": ".py",
   "mimetype": "text/x-python",
   "name": "python",
   "nbconvert_exporter": "python",
   "pygments_lexer": "ipython3",
   "version": "3.9.20"
  }
 },
 "nbformat": 4,
 "nbformat_minor": 2
}
